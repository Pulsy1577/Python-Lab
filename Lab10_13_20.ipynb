{
 "cells": [
  {
   "cell_type": "code",
   "execution_count": 20,
   "metadata": {},
   "outputs": [
    {
     "name": "stdout",
     "output_type": "stream",
     "text": [
      "The average of the data set is: 1.1166666666666667 The standard deviation is: 0.17950549357115014\n",
      "2.3865817646556438\n"
     ]
    }
   ],
   "source": [
    "import numpy as np\n",
    "\n",
    "\n",
    "def rule1(dA, c):\n",
    "    return abs(c) * dA\n",
    "    \n",
    "\n",
    "def rule2(c,m,A,dA):\n",
    "    return abs(c*m*(A^(m-1)))*dA\n",
    "\n",
    "    \n",
    "def rule3 (dA, dB):\n",
    "    return np.sqrt(dA**2+dB**2)\n",
    "    \n",
    "\n",
    "def rule4 (c,A,m,B,n,dA,dB):\n",
    "    return np.sqrt((m*(dA/A))**2 + (n*(dB/B))**2)*c\n",
    "\n",
    "x = [1.1, 1.3, 1.4, 0.9, 0.95, 1.05]\n",
    "a = np.std(x)\n",
    "b = np.average(x)\n",
    "print(\"The average of the data set is: \" + str(b) + \" The standard deviation is: \" + str(a))\n",
    "\n",
    "#My error agreed with the by hand calculation, same number\n",
    "print(rule4(78.3,.2083,1,.105,-1,.0001,.0032))\n",
    "\n",
    "\n"
   ]
  },
  {
   "cell_type": "markdown",
   "metadata": {},
   "source": [
    "## LatEx Stuff"
   ]
  },
  {
   "cell_type": "markdown",
   "metadata": {},
   "source": [
    "\n",
    "\n",
    "\\begin{equation*}\n",
    "\\delta Q = \\sqrt{(\\delta A)^2 + (\\delta B)^2}\n",
    "\\end{equation*}\n",
    "\n",
    "\\begin{equation*}\n",
    "\\sum F_c = (4\\pi^2rm)/T^2\n",
    "\\end{equation*}"
   ]
  },
  {
   "cell_type": "code",
   "execution_count": 21,
   "metadata": {
    "scrolled": true
   },
   "outputs": [
    {
     "ename": "SyntaxError",
     "evalue": "unexpected character after line continuation character (<ipython-input-21-44921f6d47dc>, line 1)",
     "output_type": "error",
     "traceback": [
      "\u001b[1;36m  File \u001b[1;32m\"<ipython-input-21-44921f6d47dc>\"\u001b[1;36m, line \u001b[1;32m1\u001b[0m\n\u001b[1;33m    \\deltaF_c = \\sqrt{(\\sigmaA)^2 + (\\sigmaB)^2}\u001b[0m\n\u001b[1;37m                                                ^\u001b[0m\n\u001b[1;31mSyntaxError\u001b[0m\u001b[1;31m:\u001b[0m unexpected character after line continuation character\n"
     ]
    }
   ],
   "source": []
  },
  {
   "cell_type": "code",
   "execution_count": null,
   "metadata": {},
   "outputs": [],
   "source": []
  }
 ],
 "metadata": {
  "kernelspec": {
   "display_name": "Python 3",
   "language": "python",
   "name": "python3"
  },
  "language_info": {
   "codemirror_mode": {
    "name": "ipython",
    "version": 3
   },
   "file_extension": ".py",
   "mimetype": "text/x-python",
   "name": "python",
   "nbconvert_exporter": "python",
   "pygments_lexer": "ipython3",
   "version": "3.8.3"
  }
 },
 "nbformat": 4,
 "nbformat_minor": 4
}
